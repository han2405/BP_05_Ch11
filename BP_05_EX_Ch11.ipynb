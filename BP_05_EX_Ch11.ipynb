{
  "nbformat": 4,
  "nbformat_minor": 0,
  "metadata": {
    "colab": {
      "provenance": [],
      "authorship_tag": "ABX9TyMlI02S3vp549oF5+z8C4gI",
      "include_colab_link": true
    },
    "kernelspec": {
      "name": "python3",
      "display_name": "Python 3"
    },
    "language_info": {
      "name": "python"
    }
  },
  "cells": [
    {
      "cell_type": "markdown",
      "metadata": {
        "id": "view-in-github",
        "colab_type": "text"
      },
      "source": [
        "<a href=\"https://colab.research.google.com/github/han2405/BP_05_Ch11/blob/main/BP_05_EX_Ch11.ipynb\" target=\"_parent\"><img src=\"https://colab.research.google.com/assets/colab-badge.svg\" alt=\"Open In Colab\"/></a>"
      ]
    },
    {
      "cell_type": "markdown",
      "source": [
        "<pre> 1번 사용자가 입력한 텍스트 파일을 열어서 파일 안에 글자가 몇 개나 있는지를 계산하는 프로그램을 작성하라."
      ],
      "metadata": {
        "id": "LT6Ppg6yuS01"
      }
    },
    {
      "cell_type": "code",
      "source": [
        "from googlr.colab import files\n",
        "uploaded=files.upload() #내 컴푸터의 파일을 코랩에 업로드해서 처리하는 거 2줄\n",
        "\n",
        "filename=input(\"파일을 입력하시오. :\").strip()\n",
        "infile=open(filename, \"r\")\n",
        "count=0\n",
        "\n",
        "for line in infile:\n",
        "  for ch in line:\n",
        "    count += 1\n",
        "\n",
        "print(\"파일 안에는 총\", count, \"개의 글자가 있습니다.\")\n",
        "infile.close() #파일 닫기\n"
      ],
      "metadata": {
        "id": "eJiwcFc-xD76"
      },
      "execution_count": null,
      "outputs": []
    },
    {
      "cell_type": "markdown",
      "source": [
        "<pre> 2번 사용자로부터 파일 이름과 삭제하는 문자열을 입력받는다. 파일을 열어서 사용자가 원하는 문자열을 삭제한 후에 다시 파일에 쓴다."
      ],
      "metadata": {
        "id": "28UypquAuSyf"
      }
    },
    {
      "cell_type": "code",
      "source": [
        "infilename=input(\"이름을 입력하시오: \").strip()\n",
        "infile=open(infilename, \"r\")\n",
        "file_s=infile.read()\n",
        "removedz_s=input(\"삭제할 문자열을 입려하시오.: \").strip()\n",
        "modified_s=file_s.replace(removed_s,\"\")\n",
        "\n",
        "infile.close()\n",
        "outfile=open(infilename, \"w\")\n",
        "\n",
        "print(modified_s, file=outfiㅣe, end=\"\")\n",
        "print(\"변경된 파일이 저장되었습니다.\")\n",
        "outfile.close()"
      ],
      "metadata": {
        "id": "8x9XGcNW8LMp"
      },
      "execution_count": null,
      "outputs": []
    },
    {
      "cell_type": "markdown",
      "source": [
        "<pre> 3번 사용자가 입력하는 파일에 있는 각 문자들이 나타내는 빈도를 게산하는 프로그램을 작성하라."
      ],
      "metadata": {
        "id": "Y2RvDVeguSv1"
      }
    },
    {
      "cell_type": "code",
      "source": [
        "infile=open(filename, \"r\")\n",
        "for line in infile:\n",
        "\n",
        "def countline(line, counter):\n",
        "  for ch in line:\n",
        "    if ch.isalpha(): \n",
        "      if ch in counter:\n",
        "        counter[ch]=counter[ch]+1\n",
        "      else:\n",
        "        counter[ch]=1\n",
        "fname=input(\"입력 파일 이름:\").strip()\n",
        "infile=open(fname,\"r\")\n",
        "\n",
        "my_dict={}\n",
        "for line in infile:\n",
        "  counterline(line, my_dict)\n",
        "\n",
        "print(my_dict)\n",
        "infile.close()"
      ],
      "metadata": {
        "id": "_H5NXEhDDxAQ"
      },
      "execution_count": null,
      "outputs": []
    },
    {
      "cell_type": "markdown",
      "source": [
        "<pre> 4번 파이썬에서는 객체를 파일에 저장할 수 있다, pickle 모듈을 사용하여서 정수 12, 실수 3.14, 리스트[1,2,3,4,5]를 이진 파일 \"test.dat\"에 저장하였다가 다시 읽는  프로그램을 작성하고 테스트하라."
      ],
      "metadata": {
        "id": "Op2qLQ0auStV"
      }
    },
    {
      "cell_type": "code",
      "source": [
        "import pickle\n",
        "\n",
        "outfile=open(\"test.dat\", \"wb\")\n",
        "pickle.dump(12, outfile)\n",
        "pickle.dump(3.14, outfile)\n",
        "outfile.close()\n",
        "\n",
        "infile=open(\"test.dat\", \"rb\")\n",
        "print(pickle.load(infile))\n",
        "print(pickle.load(infile))\n",
        "print(pickle.load(infile))\n",
        "\n",
        "infile.close()"
      ],
      "metadata": {
        "colab": {
          "base_uri": "https://localhost:8080/"
        },
        "id": "OLGWmEdMDyWY",
        "outputId": "3452dafb-cd3d-499c-e3d9-e9ae20dc0094"
      },
      "execution_count": null,
      "outputs": [
        {
          "output_type": "stream",
          "name": "stdout",
          "text": [
            "12\n",
            "3.14\n"
          ]
        }
      ]
    },
    {
      "cell_type": "markdown",
      "source": [
        "<pre> 5번 텍스트 파일 \"data.txt\"에 실수값들이 저장되어 있다고 가정하자. 한 줄에 하나의 실수만 저장되어 있다. 에를 들면 다음과 같다. \n",
        "23.0\n",
        "51.0\n",
        "68.5\n",
        "82.9\n",
        "103.2\n",
        "\n",
        "이 파일을 읽어서 합계와 평균을 게산한 후에 이것을 :output.txt\" 파일에 다음과 같이 저장하는 프로그램을 작성하라.\n",
        "합계=328.6\n",
        "평균=65.72"
      ],
      "metadata": {
        "id": "SoVOWADNvKkD"
      }
    },
    {
      "cell_type": "code",
      "source": [
        "inFiName=input(\"입력 파일 이름: \")\n",
        "outFileName=input(\"출력 파일 이름: \")\n",
        "\n",
        "infile=open(inFileName, \"r\")\n",
        "outfile=open(outFileName, \"w\")\n",
        "\n",
        "total=0.0\n",
        "count=0\n",
        "\n",
        "line=infile.readline()\n",
        "while line !=\"\":\n",
        "  value=float(line)\n",
        "  total=total+value\n",
        "  count=count+1\n",
        "  line=infile.readline()\n",
        "\n",
        "outfile.write(\"합계=\"+str(total)+\"/n\")\n",
        "\n",
        "avg=total/count\n",
        "outfile.write(\"평균\"+str(avg)+\"/n\")\n",
        "\n",
        "infile.close()\n",
        "outfile.close()"
      ],
      "metadata": {
        "id": "ZCwZJkPoDzdL"
      },
      "execution_count": null,
      "outputs": []
    },
    {
      "cell_type": "markdown",
      "source": [
        "<pre> 6번 tkinter를 사용하여 다음과 같은 사용자 인터페이스를 만든다. \"추가\" 버튼을 누르면 사용자가 입력한 이름과 전화 번호 리스트가 파일 \"phone_book.dat\"에서 이름과 전화 번호를 읽어오는 프로그램을 작성하라."
      ],
      "metadata": {
        "id": "DuDJ40OsuSq1"
      }
    },
    {
      "cell_type": "code",
      "source": [
        "import pickle\n",
        "from tKinter import*\n",
        "\n",
        "phone_book={}\n",
        "current=0\n",
        "name=\"\"\n",
        "phone=\"\"\n",
        "\n",
        "window=Tk()\n",
        "\n",
        "frame1=Frame(window)\n",
        "frame1.pack()\n",
        "Label(frame1, text=\"이름\").grid(row=1, column=1, sticky=w)\n",
        "nameFntry=Entry(frame1, textvariable=name, width=30)\n",
        "nameEntry.grid(row=1, column=2)\n",
        "\n",
        "frame2=Frame(window)\n",
        "frame1.pack()\n",
        "Label(frame2, text=\"전화번호\").grid(row=1, column=1, sticky=w)\n",
        "nameFntry=Entry(frame2, textvariable=phone, width=30)\n",
        "nameEntry.grid(row=1, column=2)\n",
        "\n",
        "frame3=Frame(window)\n",
        "frame3.pack()\n",
        "\n",
        "def save():\n",
        "  outfile=open(\"phonebook.dat\",\"wb\")\n",
        "  pickle.dump(phone_book, outfile)\n",
        "  print(\"주소들이 파일에 저장되었습니다.\")\n",
        "  outfile.close()\n",
        "\n",
        "def load():\n",
        "  infile=open(\"phonebook.dat\", \"rb\")\n",
        "  phone_book=pickle.load(infile)\n",
        "  infile.close()\n",
        "  print(\"파일에서 주소를 읽었습니다.\")\n",
        "  go_first()\n",
        "\n",
        "def add():\n",
        "  phone_book[nameEntry.get()]=phoneEntry.get()\n",
        "  print(phone_book)\n",
        "  save()\n",
        "\n",
        "def go_first():\n",
        "  global current\n",
        "  current=0\n",
        "  ks=list(phone_book)\n",
        "  print(phone_book)\n",
        "  nameEntry.insert(0,END)\n",
        "  nameEntry,insert(0, ks[current])\n",
        "  phoneEntry.delete(0, END)\n",
        "  phoneEntry.insert(0, phone_book[ks[current]])\n",
        "\n",
        "def go_next():\n",
        "  global current\n",
        "  current+=1\n",
        "  ks=list(phone_book)\n",
        "  nameEntry.delete(0, END)\n",
        "  nameEntry.insert(0, ks[current])\n",
        "  phoneEntry.delete(0, END)\n",
        "  phoneEntryinsert(0, phone_book[ks[current]])\n",
        "\n",
        "def go_previous():\n",
        "  print(\"구현되지 않았음\")\n",
        "\n",
        "def go_list():\n",
        "  print(\"구현되지 않았음\")\n",
        "\n",
        "b1=Button(frame3, text=\"추가\", command=add).grid(row=1, column=1)\n",
        "b2=Button(frame3, text=\"처음\", command=go_first).grid(row=1, column=2)\n",
        "b3=Button(frame3, text=\"다음\", command=go_next).grid(row=1, column=3)\n",
        "b4=Button(frame3, text=\"이전\", command=go_previous).grid(row=1, column=4)\n",
        "b5=Button(frame3, text=\"마지막\", command=go_last).grid(row=1, column=5)\n",
        "b6=Button(frame3, text=\"파일 읽기\", command=load).grid(row=1, column=6)\n",
        "\n",
        "window.mainloop()\n"
      ],
      "metadata": {
        "colab": {
          "base_uri": "https://localhost:8080/",
          "height": 390
        },
        "id": "xLZqQ_iPD0OL",
        "outputId": "42b43e30-4824-4e74-9b14-bf18abc5bf10"
      },
      "execution_count": null,
      "outputs": [
        {
          "output_type": "error",
          "ename": "ModuleNotFoundError",
          "evalue": "ignored",
          "traceback": [
            "\u001b[0;31m---------------------------------------------------------------------------\u001b[0m",
            "\u001b[0;31mModuleNotFoundError\u001b[0m                       Traceback (most recent call last)",
            "\u001b[0;32m<ipython-input-4-ec8940a211ef>\u001b[0m in \u001b[0;36m<module>\u001b[0;34m\u001b[0m\n\u001b[1;32m      1\u001b[0m \u001b[0;32mimport\u001b[0m \u001b[0mpickle\u001b[0m\u001b[0;34m\u001b[0m\u001b[0;34m\u001b[0m\u001b[0m\n\u001b[0;32m----> 2\u001b[0;31m \u001b[0;32mfrom\u001b[0m \u001b[0mtKinter\u001b[0m \u001b[0;32mimport\u001b[0m\u001b[0;34m*\u001b[0m\u001b[0;34m\u001b[0m\u001b[0;34m\u001b[0m\u001b[0m\n\u001b[0m\u001b[1;32m      3\u001b[0m \u001b[0;34m\u001b[0m\u001b[0m\n\u001b[1;32m      4\u001b[0m \u001b[0mphone_book\u001b[0m\u001b[0;34m=\u001b[0m\u001b[0;34m{\u001b[0m\u001b[0;34m}\u001b[0m\u001b[0;34m\u001b[0m\u001b[0;34m\u001b[0m\u001b[0m\n\u001b[1;32m      5\u001b[0m \u001b[0mcurrent\u001b[0m\u001b[0;34m=\u001b[0m\u001b[0;36m0\u001b[0m\u001b[0;34m\u001b[0m\u001b[0;34m\u001b[0m\u001b[0m\n",
            "\u001b[0;31mModuleNotFoundError\u001b[0m: No module named 'tKinter'",
            "",
            "\u001b[0;31m---------------------------------------------------------------------------\u001b[0;32m\nNOTE: If your import is failing due to a missing package, you can\nmanually install dependencies using either !pip or !apt.\n\nTo view examples of installing some common dependencies, click the\n\"Open Examples\" button below.\n\u001b[0;31m---------------------------------------------------------------------------\u001b[0m\n"
          ],
          "errorDetails": {
            "actions": [
              {
                "action": "open_url",
                "actionText": "Open Examples",
                "url": "/notebooks/snippets/importing_libraries.ipynb"
              }
            ]
          }
        }
      ]
    },
    {
      "cell_type": "code",
      "source": [],
      "metadata": {
        "id": "gKB4gsWAUVsz"
      },
      "execution_count": null,
      "outputs": []
    }
  ]
}